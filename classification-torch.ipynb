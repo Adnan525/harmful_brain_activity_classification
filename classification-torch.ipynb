{
 "cells": [
  {
   "cell_type": "code",
   "execution_count": 1,
   "id": "0ec9dfe7",
   "metadata": {
    "_cell_guid": "b1076dfc-b9ad-4769-8c92-a6c4dae69d19",
    "_uuid": "8f2839f25d086af736a60e9eeb907d3b93b6e0e5",
    "execution": {
     "iopub.execute_input": "2024-04-08T17:08:32.941493Z",
     "iopub.status.busy": "2024-04-08T17:08:32.941013Z",
     "iopub.status.idle": "2024-04-08T17:08:33.932742Z",
     "shell.execute_reply": "2024-04-08T17:08:33.931535Z"
    },
    "papermill": {
     "duration": 1.005069,
     "end_time": "2024-04-08T17:08:33.936055",
     "exception": false,
     "start_time": "2024-04-08T17:08:32.930986",
     "status": "completed"
    },
    "tags": []
   },
   "outputs": [],
   "source": [
    "# This Python 3 environment comes with many helpful analytics libraries installed\n",
    "# It is defined by the kaggle/python Docker image: https://github.com/kaggle/docker-python\n",
    "# For example, here's several helpful packages to load\n",
    "\n",
    "import numpy as np # linear algebra\n",
    "import pandas as pd # data processing, CSV file I/O (e.g. pd.read_csv)\n",
    "\n",
    "# Input data files are available in the read-only \"../input/\" directory\n",
    "# For example, running this (by clicking run or pressing Shift+Enter) will list all files under the input directory\n",
    "\n",
    "import os\n",
    "# for dirname, _, filenames in os.walk('/kaggle/input'):\n",
    "#     for filename in filenames:\n",
    "#         print(os.path.join(dirname, filename))\n",
    "\n",
    "# You can write up to 20GB to the current directory (/kaggle/working/) that gets preserved as output when you create a version using \"Save & Run All\" \n",
    "# You can also write temporary files to /kaggle/temp/, but they won't be saved outside of the current session"
   ]
  },
  {
   "cell_type": "code",
   "execution_count": 2,
   "id": "e22c664b",
   "metadata": {
    "execution": {
     "iopub.execute_input": "2024-04-08T17:08:33.953701Z",
     "iopub.status.busy": "2024-04-08T17:08:33.953189Z",
     "iopub.status.idle": "2024-04-08T17:08:37.752921Z",
     "shell.execute_reply": "2024-04-08T17:08:37.751501Z"
    },
    "papermill": {
     "duration": 3.812112,
     "end_time": "2024-04-08T17:08:37.756274",
     "exception": false,
     "start_time": "2024-04-08T17:08:33.944162",
     "status": "completed"
    },
    "tags": []
   },
   "outputs": [
    {
     "data": {
      "text/plain": [
       "'2.1.2+cpu'"
      ]
     },
     "execution_count": 2,
     "metadata": {},
     "output_type": "execute_result"
    }
   ],
   "source": [
    "import torch\n",
    "torch.__version__"
   ]
  },
  {
   "cell_type": "code",
   "execution_count": 3,
   "id": "66fb1ec7",
   "metadata": {
    "execution": {
     "iopub.execute_input": "2024-04-08T17:08:37.774365Z",
     "iopub.status.busy": "2024-04-08T17:08:37.773783Z",
     "iopub.status.idle": "2024-04-08T17:08:37.781553Z",
     "shell.execute_reply": "2024-04-08T17:08:37.780286Z"
    },
    "papermill": {
     "duration": 0.019692,
     "end_time": "2024-04-08T17:08:37.784166",
     "exception": false,
     "start_time": "2024-04-08T17:08:37.764474",
     "status": "completed"
    },
    "tags": []
   },
   "outputs": [
    {
     "data": {
      "text/plain": [
       "False"
      ]
     },
     "execution_count": 3,
     "metadata": {},
     "output_type": "execute_result"
    }
   ],
   "source": [
    "torch.cuda.is_available()"
   ]
  },
  {
   "cell_type": "code",
   "execution_count": 4,
   "id": "e7cd14d2",
   "metadata": {
    "execution": {
     "iopub.execute_input": "2024-04-08T17:08:37.801746Z",
     "iopub.status.busy": "2024-04-08T17:08:37.801326Z",
     "iopub.status.idle": "2024-04-08T17:08:37.806975Z",
     "shell.execute_reply": "2024-04-08T17:08:37.805683Z"
    },
    "papermill": {
     "duration": 0.017459,
     "end_time": "2024-04-08T17:08:37.809447",
     "exception": false,
     "start_time": "2024-04-08T17:08:37.791988",
     "status": "completed"
    },
    "tags": []
   },
   "outputs": [],
   "source": [
    "import warnings\n",
    "warnings.filterwarnings(\"ignore\", \"all\")"
   ]
  },
  {
   "cell_type": "code",
   "execution_count": 5,
   "id": "3b0ddb0b",
   "metadata": {
    "execution": {
     "iopub.execute_input": "2024-04-08T17:08:37.827353Z",
     "iopub.status.busy": "2024-04-08T17:08:37.826952Z",
     "iopub.status.idle": "2024-04-08T17:08:37.832434Z",
     "shell.execute_reply": "2024-04-08T17:08:37.831242Z"
    },
    "papermill": {
     "duration": 0.017765,
     "end_time": "2024-04-08T17:08:37.835024",
     "exception": false,
     "start_time": "2024-04-08T17:08:37.817259",
     "status": "completed"
    },
    "tags": []
   },
   "outputs": [],
   "source": [
    "import gc\n",
    "import random\n",
    "import numpy as np\n",
    "import pandas as pd\n",
    "from IPython.display import display"
   ]
  },
  {
   "cell_type": "code",
   "execution_count": 6,
   "id": "e17a7ca3",
   "metadata": {
    "execution": {
     "iopub.execute_input": "2024-04-08T17:08:37.853280Z",
     "iopub.status.busy": "2024-04-08T17:08:37.852850Z",
     "iopub.status.idle": "2024-04-08T17:08:42.586959Z",
     "shell.execute_reply": "2024-04-08T17:08:42.585595Z"
    },
    "papermill": {
     "duration": 4.746715,
     "end_time": "2024-04-08T17:08:42.590074",
     "exception": false,
     "start_time": "2024-04-08T17:08:37.843359",
     "status": "completed"
    },
    "tags": []
   },
   "outputs": [],
   "source": [
    "import timm\n",
    "import torch.nn as nn\n",
    "import torch.optim as optim\n",
    "import torch.nn.functional as F\n",
    "from torch.optim.lr_scheduler import CosineAnnealingLR"
   ]
  },
  {
   "cell_type": "code",
   "execution_count": 7,
   "id": "4f72f396",
   "metadata": {
    "execution": {
     "iopub.execute_input": "2024-04-08T17:08:42.607693Z",
     "iopub.status.busy": "2024-04-08T17:08:42.607223Z",
     "iopub.status.idle": "2024-04-08T17:08:42.613168Z",
     "shell.execute_reply": "2024-04-08T17:08:42.611826Z"
    },
    "papermill": {
     "duration": 0.018108,
     "end_time": "2024-04-08T17:08:42.616006",
     "exception": false,
     "start_time": "2024-04-08T17:08:42.597898",
     "status": "completed"
    },
    "tags": []
   },
   "outputs": [],
   "source": [
    "import torchvision.transforms as transforms"
   ]
  },
  {
   "cell_type": "code",
   "execution_count": 8,
   "id": "ca52196e",
   "metadata": {
    "execution": {
     "iopub.execute_input": "2024-04-08T17:08:42.633453Z",
     "iopub.status.busy": "2024-04-08T17:08:42.632998Z",
     "iopub.status.idle": "2024-04-08T17:08:42.844202Z",
     "shell.execute_reply": "2024-04-08T17:08:42.842972Z"
    },
    "papermill": {
     "duration": 0.223657,
     "end_time": "2024-04-08T17:08:42.847454",
     "exception": false,
     "start_time": "2024-04-08T17:08:42.623797",
     "status": "completed"
    },
    "tags": []
   },
   "outputs": [
    {
     "data": {
      "text/plain": [
       "16"
      ]
     },
     "execution_count": 8,
     "metadata": {},
     "output_type": "execute_result"
    }
   ],
   "source": [
    "gc.collect()"
   ]
  },
  {
   "cell_type": "code",
   "execution_count": 9,
   "id": "c0967c64",
   "metadata": {
    "execution": {
     "iopub.execute_input": "2024-04-08T17:08:42.866070Z",
     "iopub.status.busy": "2024-04-08T17:08:42.865623Z",
     "iopub.status.idle": "2024-04-08T17:08:42.871817Z",
     "shell.execute_reply": "2024-04-08T17:08:42.870622Z"
    },
    "papermill": {
     "duration": 0.018545,
     "end_time": "2024-04-08T17:08:42.874540",
     "exception": false,
     "start_time": "2024-04-08T17:08:42.855995",
     "status": "completed"
    },
    "tags": []
   },
   "outputs": [],
   "source": [
    "class Config:\n",
    "    seed = 42\n",
    "    image_transform = transforms.Resize((214, 214)) # resent34's input size\n",
    "    batch_size = 16\n",
    "    num_epochs = 10"
   ]
  },
  {
   "cell_type": "code",
   "execution_count": 10,
   "id": "02566dcd",
   "metadata": {
    "execution": {
     "iopub.execute_input": "2024-04-08T17:08:42.893963Z",
     "iopub.status.busy": "2024-04-08T17:08:42.893518Z",
     "iopub.status.idle": "2024-04-08T17:08:42.902915Z",
     "shell.execute_reply": "2024-04-08T17:08:42.901523Z"
    },
    "papermill": {
     "duration": 0.02328,
     "end_time": "2024-04-08T17:08:42.905636",
     "exception": false,
     "start_time": "2024-04-08T17:08:42.882356",
     "status": "completed"
    },
    "tags": []
   },
   "outputs": [],
   "source": [
    "torch.backends.cudnn.deterministic = True\n",
    "torch.backends.cudnn.benchmark = True\n",
    "torch.manual_seed(Config.seed)\n",
    "np.random.seed(Config.seed)\n",
    "random.seed(Config.seed)"
   ]
  },
  {
   "cell_type": "code",
   "execution_count": 11,
   "id": "12b10e4b",
   "metadata": {
    "execution": {
     "iopub.execute_input": "2024-04-08T17:08:42.923248Z",
     "iopub.status.busy": "2024-04-08T17:08:42.922709Z",
     "iopub.status.idle": "2024-04-08T17:08:43.295546Z",
     "shell.execute_reply": "2024-04-08T17:08:43.294135Z"
    },
    "papermill": {
     "duration": 0.385461,
     "end_time": "2024-04-08T17:08:43.298695",
     "exception": false,
     "start_time": "2024-04-08T17:08:42.913234",
     "status": "completed"
    },
    "tags": []
   },
   "outputs": [
    {
     "data": {
      "text/html": [
       "<div>\n",
       "<style scoped>\n",
       "    .dataframe tbody tr th:only-of-type {\n",
       "        vertical-align: middle;\n",
       "    }\n",
       "\n",
       "    .dataframe tbody tr th {\n",
       "        vertical-align: top;\n",
       "    }\n",
       "\n",
       "    .dataframe thead th {\n",
       "        text-align: right;\n",
       "    }\n",
       "</style>\n",
       "<table border=\"1\" class=\"dataframe\">\n",
       "  <thead>\n",
       "    <tr style=\"text-align: right;\">\n",
       "      <th></th>\n",
       "      <th>eeg_id</th>\n",
       "      <th>eeg_sub_id</th>\n",
       "      <th>eeg_label_offset_seconds</th>\n",
       "      <th>spectrogram_id</th>\n",
       "      <th>spectrogram_sub_id</th>\n",
       "      <th>spectrogram_label_offset_seconds</th>\n",
       "      <th>label_id</th>\n",
       "      <th>patient_id</th>\n",
       "      <th>expert_consensus</th>\n",
       "      <th>seizure_vote</th>\n",
       "      <th>lpd_vote</th>\n",
       "      <th>gpd_vote</th>\n",
       "      <th>lrda_vote</th>\n",
       "      <th>grda_vote</th>\n",
       "      <th>other_vote</th>\n",
       "    </tr>\n",
       "  </thead>\n",
       "  <tbody>\n",
       "    <tr>\n",
       "      <th>0</th>\n",
       "      <td>1628180742</td>\n",
       "      <td>0</td>\n",
       "      <td>0.0</td>\n",
       "      <td>353733</td>\n",
       "      <td>0</td>\n",
       "      <td>0.0</td>\n",
       "      <td>127492639</td>\n",
       "      <td>42516</td>\n",
       "      <td>Seizure</td>\n",
       "      <td>3</td>\n",
       "      <td>0</td>\n",
       "      <td>0</td>\n",
       "      <td>0</td>\n",
       "      <td>0</td>\n",
       "      <td>0</td>\n",
       "    </tr>\n",
       "    <tr>\n",
       "      <th>1</th>\n",
       "      <td>1628180742</td>\n",
       "      <td>1</td>\n",
       "      <td>6.0</td>\n",
       "      <td>353733</td>\n",
       "      <td>1</td>\n",
       "      <td>6.0</td>\n",
       "      <td>3887563113</td>\n",
       "      <td>42516</td>\n",
       "      <td>Seizure</td>\n",
       "      <td>3</td>\n",
       "      <td>0</td>\n",
       "      <td>0</td>\n",
       "      <td>0</td>\n",
       "      <td>0</td>\n",
       "      <td>0</td>\n",
       "    </tr>\n",
       "    <tr>\n",
       "      <th>2</th>\n",
       "      <td>1628180742</td>\n",
       "      <td>2</td>\n",
       "      <td>8.0</td>\n",
       "      <td>353733</td>\n",
       "      <td>2</td>\n",
       "      <td>8.0</td>\n",
       "      <td>1142670488</td>\n",
       "      <td>42516</td>\n",
       "      <td>Seizure</td>\n",
       "      <td>3</td>\n",
       "      <td>0</td>\n",
       "      <td>0</td>\n",
       "      <td>0</td>\n",
       "      <td>0</td>\n",
       "      <td>0</td>\n",
       "    </tr>\n",
       "    <tr>\n",
       "      <th>3</th>\n",
       "      <td>1628180742</td>\n",
       "      <td>3</td>\n",
       "      <td>18.0</td>\n",
       "      <td>353733</td>\n",
       "      <td>3</td>\n",
       "      <td>18.0</td>\n",
       "      <td>2718991173</td>\n",
       "      <td>42516</td>\n",
       "      <td>Seizure</td>\n",
       "      <td>3</td>\n",
       "      <td>0</td>\n",
       "      <td>0</td>\n",
       "      <td>0</td>\n",
       "      <td>0</td>\n",
       "      <td>0</td>\n",
       "    </tr>\n",
       "    <tr>\n",
       "      <th>4</th>\n",
       "      <td>1628180742</td>\n",
       "      <td>4</td>\n",
       "      <td>24.0</td>\n",
       "      <td>353733</td>\n",
       "      <td>4</td>\n",
       "      <td>24.0</td>\n",
       "      <td>3080632009</td>\n",
       "      <td>42516</td>\n",
       "      <td>Seizure</td>\n",
       "      <td>3</td>\n",
       "      <td>0</td>\n",
       "      <td>0</td>\n",
       "      <td>0</td>\n",
       "      <td>0</td>\n",
       "      <td>0</td>\n",
       "    </tr>\n",
       "  </tbody>\n",
       "</table>\n",
       "</div>"
      ],
      "text/plain": [
       "       eeg_id  eeg_sub_id  eeg_label_offset_seconds  spectrogram_id  \\\n",
       "0  1628180742           0                       0.0          353733   \n",
       "1  1628180742           1                       6.0          353733   \n",
       "2  1628180742           2                       8.0          353733   \n",
       "3  1628180742           3                      18.0          353733   \n",
       "4  1628180742           4                      24.0          353733   \n",
       "\n",
       "   spectrogram_sub_id  spectrogram_label_offset_seconds    label_id  \\\n",
       "0                   0                               0.0   127492639   \n",
       "1                   1                               6.0  3887563113   \n",
       "2                   2                               8.0  1142670488   \n",
       "3                   3                              18.0  2718991173   \n",
       "4                   4                              24.0  3080632009   \n",
       "\n",
       "   patient_id expert_consensus  seizure_vote  lpd_vote  gpd_vote  lrda_vote  \\\n",
       "0       42516          Seizure             3         0         0          0   \n",
       "1       42516          Seizure             3         0         0          0   \n",
       "2       42516          Seizure             3         0         0          0   \n",
       "3       42516          Seizure             3         0         0          0   \n",
       "4       42516          Seizure             3         0         0          0   \n",
       "\n",
       "   grda_vote  other_vote  \n",
       "0          0           0  \n",
       "1          0           0  \n",
       "2          0           0  \n",
       "3          0           0  \n",
       "4          0           0  "
      ]
     },
     "execution_count": 11,
     "metadata": {},
     "output_type": "execute_result"
    }
   ],
   "source": [
    "train_df = pd.read_csv(\"/kaggle/input/hms-harmful-brain-activity-classification/train.csv\")\n",
    "train_df.head()"
   ]
  },
  {
   "cell_type": "code",
   "execution_count": 12,
   "id": "c34472ba",
   "metadata": {
    "execution": {
     "iopub.execute_input": "2024-04-08T17:08:43.317825Z",
     "iopub.status.busy": "2024-04-08T17:08:43.317397Z",
     "iopub.status.idle": "2024-04-08T17:08:43.332579Z",
     "shell.execute_reply": "2024-04-08T17:08:43.331396Z"
    },
    "papermill": {
     "duration": 0.027876,
     "end_time": "2024-04-08T17:08:43.335153",
     "exception": false,
     "start_time": "2024-04-08T17:08:43.307277",
     "status": "completed"
    },
    "tags": []
   },
   "outputs": [
    {
     "data": {
      "text/plain": [
       "11138"
      ]
     },
     "execution_count": 12,
     "metadata": {},
     "output_type": "execute_result"
    }
   ],
   "source": [
    "train_df.spectrogram_id.nunique()"
   ]
  },
  {
   "cell_type": "code",
   "execution_count": 13,
   "id": "8b8b483f",
   "metadata": {
    "execution": {
     "iopub.execute_input": "2024-04-08T17:08:43.353600Z",
     "iopub.status.busy": "2024-04-08T17:08:43.353175Z",
     "iopub.status.idle": "2024-04-08T17:08:43.372509Z",
     "shell.execute_reply": "2024-04-08T17:08:43.371258Z"
    },
    "papermill": {
     "duration": 0.031586,
     "end_time": "2024-04-08T17:08:43.375062",
     "exception": false,
     "start_time": "2024-04-08T17:08:43.343476",
     "status": "completed"
    },
    "tags": []
   },
   "outputs": [
    {
     "data": {
      "text/plain": [
       "['seizure', 'gpd', 'lrda', 'other', 'grda', 'lpd']"
      ]
     },
     "execution_count": 13,
     "metadata": {},
     "output_type": "execute_result"
    }
   ],
   "source": [
    "labels = [label.lower() for label in train_df.expert_consensus.unique()]\n",
    "labels"
   ]
  },
  {
   "cell_type": "code",
   "execution_count": 14,
   "id": "5f6d0ff8",
   "metadata": {
    "execution": {
     "iopub.execute_input": "2024-04-08T17:08:43.393259Z",
     "iopub.status.busy": "2024-04-08T17:08:43.392871Z",
     "iopub.status.idle": "2024-04-08T17:08:43.443621Z",
     "shell.execute_reply": "2024-04-08T17:08:43.442227Z"
    },
    "papermill": {
     "duration": 0.063414,
     "end_time": "2024-04-08T17:08:43.446702",
     "exception": false,
     "start_time": "2024-04-08T17:08:43.383288",
     "status": "completed"
    },
    "tags": []
   },
   "outputs": [],
   "source": [
    "target_df = pd.DataFrame()\n",
    "for label in labels:\n",
    "    grouped_by_spec = train_df[f\"{label}_vote\"].groupby(train_df.spectrogram_id).sum()\n",
    "    temp_grouped_df = pd.DataFrame({\"spectrogram_id\" : grouped_by_spec.index,\n",
    "                                    f\"{label}_vote_sum\" : grouped_by_spec.values})\n",
    "    \n",
    "    # first label\n",
    "    if label == \"seizure\":\n",
    "        target_df = temp_grouped_df\n",
    "    else:\n",
    "        target_df = target_df.merge(temp_grouped_df, on = \"spectrogram_id\", how = \"left\")"
   ]
  },
  {
   "cell_type": "code",
   "execution_count": 15,
   "id": "4c5148a4",
   "metadata": {
    "execution": {
     "iopub.execute_input": "2024-04-08T17:08:43.465538Z",
     "iopub.status.busy": "2024-04-08T17:08:43.465061Z",
     "iopub.status.idle": "2024-04-08T17:08:43.479050Z",
     "shell.execute_reply": "2024-04-08T17:08:43.477823Z"
    },
    "papermill": {
     "duration": 0.026522,
     "end_time": "2024-04-08T17:08:43.481651",
     "exception": false,
     "start_time": "2024-04-08T17:08:43.455129",
     "status": "completed"
    },
    "tags": []
   },
   "outputs": [
    {
     "data": {
      "text/html": [
       "<div>\n",
       "<style scoped>\n",
       "    .dataframe tbody tr th:only-of-type {\n",
       "        vertical-align: middle;\n",
       "    }\n",
       "\n",
       "    .dataframe tbody tr th {\n",
       "        vertical-align: top;\n",
       "    }\n",
       "\n",
       "    .dataframe thead th {\n",
       "        text-align: right;\n",
       "    }\n",
       "</style>\n",
       "<table border=\"1\" class=\"dataframe\">\n",
       "  <thead>\n",
       "    <tr style=\"text-align: right;\">\n",
       "      <th></th>\n",
       "      <th>spectrogram_id</th>\n",
       "      <th>seizure_vote_sum</th>\n",
       "      <th>gpd_vote_sum</th>\n",
       "      <th>lrda_vote_sum</th>\n",
       "      <th>other_vote_sum</th>\n",
       "      <th>grda_vote_sum</th>\n",
       "      <th>lpd_vote_sum</th>\n",
       "    </tr>\n",
       "  </thead>\n",
       "  <tbody>\n",
       "    <tr>\n",
       "      <th>0</th>\n",
       "      <td>353733</td>\n",
       "      <td>27</td>\n",
       "      <td>0</td>\n",
       "      <td>0</td>\n",
       "      <td>0</td>\n",
       "      <td>0</td>\n",
       "      <td>0</td>\n",
       "    </tr>\n",
       "    <tr>\n",
       "      <th>1</th>\n",
       "      <td>924234</td>\n",
       "      <td>0</td>\n",
       "      <td>10</td>\n",
       "      <td>0</td>\n",
       "      <td>10</td>\n",
       "      <td>2</td>\n",
       "      <td>0</td>\n",
       "    </tr>\n",
       "    <tr>\n",
       "      <th>2</th>\n",
       "      <td>999431</td>\n",
       "      <td>0</td>\n",
       "      <td>0</td>\n",
       "      <td>154</td>\n",
       "      <td>11</td>\n",
       "      <td>0</td>\n",
       "      <td>11</td>\n",
       "    </tr>\n",
       "    <tr>\n",
       "      <th>3</th>\n",
       "      <td>1084844</td>\n",
       "      <td>0</td>\n",
       "      <td>0</td>\n",
       "      <td>18</td>\n",
       "      <td>0</td>\n",
       "      <td>0</td>\n",
       "      <td>0</td>\n",
       "    </tr>\n",
       "    <tr>\n",
       "      <th>4</th>\n",
       "      <td>1219001</td>\n",
       "      <td>21</td>\n",
       "      <td>10</td>\n",
       "      <td>0</td>\n",
       "      <td>0</td>\n",
       "      <td>0</td>\n",
       "      <td>0</td>\n",
       "    </tr>\n",
       "  </tbody>\n",
       "</table>\n",
       "</div>"
      ],
      "text/plain": [
       "   spectrogram_id  seizure_vote_sum  gpd_vote_sum  lrda_vote_sum  \\\n",
       "0          353733                27             0              0   \n",
       "1          924234                 0            10              0   \n",
       "2          999431                 0             0            154   \n",
       "3         1084844                 0             0             18   \n",
       "4         1219001                21            10              0   \n",
       "\n",
       "   other_vote_sum  grda_vote_sum  lpd_vote_sum  \n",
       "0               0              0             0  \n",
       "1              10              2             0  \n",
       "2              11              0            11  \n",
       "3               0              0             0  \n",
       "4               0              0             0  "
      ]
     },
     "execution_count": 15,
     "metadata": {},
     "output_type": "execute_result"
    }
   ],
   "source": [
    "target_df.head()"
   ]
  },
  {
   "cell_type": "code",
   "execution_count": 16,
   "id": "ddbef259",
   "metadata": {
    "execution": {
     "iopub.execute_input": "2024-04-08T17:08:43.500869Z",
     "iopub.status.busy": "2024-04-08T17:08:43.500390Z",
     "iopub.status.idle": "2024-04-08T17:08:43.509620Z",
     "shell.execute_reply": "2024-04-08T17:08:43.508601Z"
    },
    "papermill": {
     "duration": 0.021871,
     "end_time": "2024-04-08T17:08:43.512114",
     "exception": false,
     "start_time": "2024-04-08T17:08:43.490243",
     "status": "completed"
    },
    "tags": []
   },
   "outputs": [
    {
     "data": {
      "text/plain": [
       "True"
      ]
     },
     "execution_count": 16,
     "metadata": {},
     "output_type": "execute_result"
    }
   ],
   "source": [
    "target_df.shape[0] == train_df.spectrogram_id.nunique()"
   ]
  },
  {
   "cell_type": "code",
   "execution_count": 17,
   "id": "b6b87b20",
   "metadata": {
    "execution": {
     "iopub.execute_input": "2024-04-08T17:08:43.531832Z",
     "iopub.status.busy": "2024-04-08T17:08:43.531341Z",
     "iopub.status.idle": "2024-04-08T17:08:43.550470Z",
     "shell.execute_reply": "2024-04-08T17:08:43.549230Z"
    },
    "papermill": {
     "duration": 0.032113,
     "end_time": "2024-04-08T17:08:43.552902",
     "exception": false,
     "start_time": "2024-04-08T17:08:43.520789",
     "status": "completed"
    },
    "tags": []
   },
   "outputs": [
    {
     "data": {
      "text/html": [
       "<div>\n",
       "<style scoped>\n",
       "    .dataframe tbody tr th:only-of-type {\n",
       "        vertical-align: middle;\n",
       "    }\n",
       "\n",
       "    .dataframe tbody tr th {\n",
       "        vertical-align: top;\n",
       "    }\n",
       "\n",
       "    .dataframe thead th {\n",
       "        text-align: right;\n",
       "    }\n",
       "</style>\n",
       "<table border=\"1\" class=\"dataframe\">\n",
       "  <thead>\n",
       "    <tr style=\"text-align: right;\">\n",
       "      <th></th>\n",
       "      <th>spectrogram_id</th>\n",
       "      <th>seizure_vote_sum</th>\n",
       "      <th>gpd_vote_sum</th>\n",
       "      <th>lrda_vote_sum</th>\n",
       "      <th>other_vote_sum</th>\n",
       "      <th>grda_vote_sum</th>\n",
       "      <th>lpd_vote_sum</th>\n",
       "      <th>total_vote</th>\n",
       "    </tr>\n",
       "  </thead>\n",
       "  <tbody>\n",
       "    <tr>\n",
       "      <th>0</th>\n",
       "      <td>353733</td>\n",
       "      <td>27</td>\n",
       "      <td>0</td>\n",
       "      <td>0</td>\n",
       "      <td>0</td>\n",
       "      <td>0</td>\n",
       "      <td>0</td>\n",
       "      <td>27</td>\n",
       "    </tr>\n",
       "    <tr>\n",
       "      <th>1</th>\n",
       "      <td>924234</td>\n",
       "      <td>0</td>\n",
       "      <td>10</td>\n",
       "      <td>0</td>\n",
       "      <td>10</td>\n",
       "      <td>2</td>\n",
       "      <td>0</td>\n",
       "      <td>22</td>\n",
       "    </tr>\n",
       "    <tr>\n",
       "      <th>2</th>\n",
       "      <td>999431</td>\n",
       "      <td>0</td>\n",
       "      <td>0</td>\n",
       "      <td>154</td>\n",
       "      <td>11</td>\n",
       "      <td>0</td>\n",
       "      <td>11</td>\n",
       "      <td>176</td>\n",
       "    </tr>\n",
       "    <tr>\n",
       "      <th>3</th>\n",
       "      <td>1084844</td>\n",
       "      <td>0</td>\n",
       "      <td>0</td>\n",
       "      <td>18</td>\n",
       "      <td>0</td>\n",
       "      <td>0</td>\n",
       "      <td>0</td>\n",
       "      <td>18</td>\n",
       "    </tr>\n",
       "    <tr>\n",
       "      <th>4</th>\n",
       "      <td>1219001</td>\n",
       "      <td>21</td>\n",
       "      <td>10</td>\n",
       "      <td>0</td>\n",
       "      <td>0</td>\n",
       "      <td>0</td>\n",
       "      <td>0</td>\n",
       "      <td>31</td>\n",
       "    </tr>\n",
       "  </tbody>\n",
       "</table>\n",
       "</div>"
      ],
      "text/plain": [
       "   spectrogram_id  seizure_vote_sum  gpd_vote_sum  lrda_vote_sum  \\\n",
       "0          353733                27             0              0   \n",
       "1          924234                 0            10              0   \n",
       "2          999431                 0             0            154   \n",
       "3         1084844                 0             0             18   \n",
       "4         1219001                21            10              0   \n",
       "\n",
       "   other_vote_sum  grda_vote_sum  lpd_vote_sum  total_vote  \n",
       "0               0              0             0          27  \n",
       "1              10              2             0          22  \n",
       "2              11              0            11         176  \n",
       "3               0              0             0          18  \n",
       "4               0              0             0          31  "
      ]
     },
     "execution_count": 17,
     "metadata": {},
     "output_type": "execute_result"
    }
   ],
   "source": [
    "# normalize\n",
    "target_df[\"total_vote\"] = 0\n",
    "for label in labels:\n",
    "    target_df[\"total_vote\"] += target_df[f\"{label}_vote_sum\"]\n",
    "target_df.head()"
   ]
  },
  {
   "cell_type": "code",
   "execution_count": 18,
   "id": "c74a8dac",
   "metadata": {
    "execution": {
     "iopub.execute_input": "2024-04-08T17:08:43.572693Z",
     "iopub.status.busy": "2024-04-08T17:08:43.572304Z",
     "iopub.status.idle": "2024-04-08T17:08:43.595079Z",
     "shell.execute_reply": "2024-04-08T17:08:43.593637Z"
    },
    "papermill": {
     "duration": 0.036141,
     "end_time": "2024-04-08T17:08:43.597992",
     "exception": false,
     "start_time": "2024-04-08T17:08:43.561851",
     "status": "completed"
    },
    "tags": []
   },
   "outputs": [
    {
     "data": {
      "text/html": [
       "<div>\n",
       "<style scoped>\n",
       "    .dataframe tbody tr th:only-of-type {\n",
       "        vertical-align: middle;\n",
       "    }\n",
       "\n",
       "    .dataframe tbody tr th {\n",
       "        vertical-align: top;\n",
       "    }\n",
       "\n",
       "    .dataframe thead th {\n",
       "        text-align: right;\n",
       "    }\n",
       "</style>\n",
       "<table border=\"1\" class=\"dataframe\">\n",
       "  <thead>\n",
       "    <tr style=\"text-align: right;\">\n",
       "      <th></th>\n",
       "      <th>spectrogram_id</th>\n",
       "      <th>seizure_vote_sum</th>\n",
       "      <th>gpd_vote_sum</th>\n",
       "      <th>lrda_vote_sum</th>\n",
       "      <th>other_vote_sum</th>\n",
       "      <th>grda_vote_sum</th>\n",
       "      <th>lpd_vote_sum</th>\n",
       "    </tr>\n",
       "  </thead>\n",
       "  <tbody>\n",
       "    <tr>\n",
       "      <th>0</th>\n",
       "      <td>353733</td>\n",
       "      <td>1.000000</td>\n",
       "      <td>0.000000</td>\n",
       "      <td>0.000</td>\n",
       "      <td>0.000000</td>\n",
       "      <td>0.000000</td>\n",
       "      <td>0.0000</td>\n",
       "    </tr>\n",
       "    <tr>\n",
       "      <th>1</th>\n",
       "      <td>924234</td>\n",
       "      <td>0.000000</td>\n",
       "      <td>0.454545</td>\n",
       "      <td>0.000</td>\n",
       "      <td>0.454545</td>\n",
       "      <td>0.090909</td>\n",
       "      <td>0.0000</td>\n",
       "    </tr>\n",
       "    <tr>\n",
       "      <th>2</th>\n",
       "      <td>999431</td>\n",
       "      <td>0.000000</td>\n",
       "      <td>0.000000</td>\n",
       "      <td>0.875</td>\n",
       "      <td>0.062500</td>\n",
       "      <td>0.000000</td>\n",
       "      <td>0.0625</td>\n",
       "    </tr>\n",
       "    <tr>\n",
       "      <th>3</th>\n",
       "      <td>1084844</td>\n",
       "      <td>0.000000</td>\n",
       "      <td>0.000000</td>\n",
       "      <td>1.000</td>\n",
       "      <td>0.000000</td>\n",
       "      <td>0.000000</td>\n",
       "      <td>0.0000</td>\n",
       "    </tr>\n",
       "    <tr>\n",
       "      <th>4</th>\n",
       "      <td>1219001</td>\n",
       "      <td>0.677419</td>\n",
       "      <td>0.322581</td>\n",
       "      <td>0.000</td>\n",
       "      <td>0.000000</td>\n",
       "      <td>0.000000</td>\n",
       "      <td>0.0000</td>\n",
       "    </tr>\n",
       "  </tbody>\n",
       "</table>\n",
       "</div>"
      ],
      "text/plain": [
       "   spectrogram_id  seizure_vote_sum  gpd_vote_sum  lrda_vote_sum  \\\n",
       "0          353733          1.000000      0.000000          0.000   \n",
       "1          924234          0.000000      0.454545          0.000   \n",
       "2          999431          0.000000      0.000000          0.875   \n",
       "3         1084844          0.000000      0.000000          1.000   \n",
       "4         1219001          0.677419      0.322581          0.000   \n",
       "\n",
       "   other_vote_sum  grda_vote_sum  lpd_vote_sum  \n",
       "0        0.000000       0.000000        0.0000  \n",
       "1        0.454545       0.090909        0.0000  \n",
       "2        0.062500       0.000000        0.0625  \n",
       "3        0.000000       0.000000        0.0000  \n",
       "4        0.000000       0.000000        0.0000  "
      ]
     },
     "execution_count": 18,
     "metadata": {},
     "output_type": "execute_result"
    }
   ],
   "source": [
    "for label in labels:\n",
    "    target_df[f\"{label}_vote_sum\"] = target_df[f\"{label}_vote_sum\"]/target_df.total_vote\n",
    "    \n",
    "target_df = target_df.drop(\"total_vote\", axis = 1)\n",
    "target_df.head()"
   ]
  },
  {
   "cell_type": "code",
   "execution_count": 19,
   "id": "235af2ab",
   "metadata": {
    "execution": {
     "iopub.execute_input": "2024-04-08T17:08:43.618411Z",
     "iopub.status.busy": "2024-04-08T17:08:43.617999Z",
     "iopub.status.idle": "2024-04-08T17:08:43.647580Z",
     "shell.execute_reply": "2024-04-08T17:08:43.645988Z"
    },
    "papermill": {
     "duration": 0.043691,
     "end_time": "2024-04-08T17:08:43.651000",
     "exception": false,
     "start_time": "2024-04-08T17:08:43.607309",
     "status": "completed"
    },
    "tags": []
   },
   "outputs": [
    {
     "data": {
      "text/html": [
       "<div>\n",
       "<style scoped>\n",
       "    .dataframe tbody tr th:only-of-type {\n",
       "        vertical-align: middle;\n",
       "    }\n",
       "\n",
       "    .dataframe tbody tr th {\n",
       "        vertical-align: top;\n",
       "    }\n",
       "\n",
       "    .dataframe thead th {\n",
       "        text-align: right;\n",
       "    }\n",
       "</style>\n",
       "<table border=\"1\" class=\"dataframe\">\n",
       "  <thead>\n",
       "    <tr style=\"text-align: right;\">\n",
       "      <th></th>\n",
       "      <th>spectrogram_id</th>\n",
       "      <th>seizure_vote_sum</th>\n",
       "      <th>gpd_vote_sum</th>\n",
       "      <th>lrda_vote_sum</th>\n",
       "      <th>other_vote_sum</th>\n",
       "      <th>grda_vote_sum</th>\n",
       "      <th>lpd_vote_sum</th>\n",
       "      <th>path</th>\n",
       "    </tr>\n",
       "  </thead>\n",
       "  <tbody>\n",
       "    <tr>\n",
       "      <th>0</th>\n",
       "      <td>353733</td>\n",
       "      <td>1.000000</td>\n",
       "      <td>0.000000</td>\n",
       "      <td>0.000</td>\n",
       "      <td>0.000000</td>\n",
       "      <td>0.000000</td>\n",
       "      <td>0.0000</td>\n",
       "      <td>/kaggle/input/hms-harmful-brain-activity-class...</td>\n",
       "    </tr>\n",
       "    <tr>\n",
       "      <th>1</th>\n",
       "      <td>924234</td>\n",
       "      <td>0.000000</td>\n",
       "      <td>0.454545</td>\n",
       "      <td>0.000</td>\n",
       "      <td>0.454545</td>\n",
       "      <td>0.090909</td>\n",
       "      <td>0.0000</td>\n",
       "      <td>/kaggle/input/hms-harmful-brain-activity-class...</td>\n",
       "    </tr>\n",
       "    <tr>\n",
       "      <th>2</th>\n",
       "      <td>999431</td>\n",
       "      <td>0.000000</td>\n",
       "      <td>0.000000</td>\n",
       "      <td>0.875</td>\n",
       "      <td>0.062500</td>\n",
       "      <td>0.000000</td>\n",
       "      <td>0.0625</td>\n",
       "      <td>/kaggle/input/hms-harmful-brain-activity-class...</td>\n",
       "    </tr>\n",
       "    <tr>\n",
       "      <th>3</th>\n",
       "      <td>1084844</td>\n",
       "      <td>0.000000</td>\n",
       "      <td>0.000000</td>\n",
       "      <td>1.000</td>\n",
       "      <td>0.000000</td>\n",
       "      <td>0.000000</td>\n",
       "      <td>0.0000</td>\n",
       "      <td>/kaggle/input/hms-harmful-brain-activity-class...</td>\n",
       "    </tr>\n",
       "    <tr>\n",
       "      <th>4</th>\n",
       "      <td>1219001</td>\n",
       "      <td>0.677419</td>\n",
       "      <td>0.322581</td>\n",
       "      <td>0.000</td>\n",
       "      <td>0.000000</td>\n",
       "      <td>0.000000</td>\n",
       "      <td>0.0000</td>\n",
       "      <td>/kaggle/input/hms-harmful-brain-activity-class...</td>\n",
       "    </tr>\n",
       "  </tbody>\n",
       "</table>\n",
       "</div>"
      ],
      "text/plain": [
       "   spectrogram_id  seizure_vote_sum  gpd_vote_sum  lrda_vote_sum  \\\n",
       "0          353733          1.000000      0.000000          0.000   \n",
       "1          924234          0.000000      0.454545          0.000   \n",
       "2          999431          0.000000      0.000000          0.875   \n",
       "3         1084844          0.000000      0.000000          1.000   \n",
       "4         1219001          0.677419      0.322581          0.000   \n",
       "\n",
       "   other_vote_sum  grda_vote_sum  lpd_vote_sum  \\\n",
       "0        0.000000       0.000000        0.0000   \n",
       "1        0.454545       0.090909        0.0000   \n",
       "2        0.062500       0.000000        0.0625   \n",
       "3        0.000000       0.000000        0.0000   \n",
       "4        0.000000       0.000000        0.0000   \n",
       "\n",
       "                                                path  \n",
       "0  /kaggle/input/hms-harmful-brain-activity-class...  \n",
       "1  /kaggle/input/hms-harmful-brain-activity-class...  \n",
       "2  /kaggle/input/hms-harmful-brain-activity-class...  \n",
       "3  /kaggle/input/hms-harmful-brain-activity-class...  \n",
       "4  /kaggle/input/hms-harmful-brain-activity-class...  "
      ]
     },
     "execution_count": 19,
     "metadata": {},
     "output_type": "execute_result"
    }
   ],
   "source": [
    "target_df[\"path\"] = target_df[\"spectrogram_id\"].apply(lambda x: \"/kaggle/input/hms-harmful-brain-activity-classification/train_spectrograms/\" + str(x) + \".parquet\")\n",
    "target_df.head()"
   ]
  },
  {
   "cell_type": "code",
   "execution_count": 20,
   "id": "09e6c924",
   "metadata": {
    "execution": {
     "iopub.execute_input": "2024-04-08T17:08:43.673579Z",
     "iopub.status.busy": "2024-04-08T17:08:43.673189Z",
     "iopub.status.idle": "2024-04-08T17:08:43.877078Z",
     "shell.execute_reply": "2024-04-08T17:08:43.875831Z"
    },
    "papermill": {
     "duration": 0.218088,
     "end_time": "2024-04-08T17:08:43.879554",
     "exception": false,
     "start_time": "2024-04-08T17:08:43.661466",
     "status": "completed"
    },
    "tags": []
   },
   "outputs": [
    {
     "data": {
      "text/html": [
       "<div>\n",
       "<style scoped>\n",
       "    .dataframe tbody tr th:only-of-type {\n",
       "        vertical-align: middle;\n",
       "    }\n",
       "\n",
       "    .dataframe tbody tr th {\n",
       "        vertical-align: top;\n",
       "    }\n",
       "\n",
       "    .dataframe thead th {\n",
       "        text-align: right;\n",
       "    }\n",
       "</style>\n",
       "<table border=\"1\" class=\"dataframe\">\n",
       "  <thead>\n",
       "    <tr style=\"text-align: right;\">\n",
       "      <th></th>\n",
       "      <th>time</th>\n",
       "      <th>LL_0.59</th>\n",
       "      <th>LL_0.78</th>\n",
       "      <th>LL_0.98</th>\n",
       "      <th>LL_1.17</th>\n",
       "      <th>LL_1.37</th>\n",
       "      <th>LL_1.56</th>\n",
       "      <th>LL_1.76</th>\n",
       "      <th>LL_1.95</th>\n",
       "      <th>LL_2.15</th>\n",
       "      <th>...</th>\n",
       "      <th>RP_18.16</th>\n",
       "      <th>RP_18.36</th>\n",
       "      <th>RP_18.55</th>\n",
       "      <th>RP_18.75</th>\n",
       "      <th>RP_18.95</th>\n",
       "      <th>RP_19.14</th>\n",
       "      <th>RP_19.34</th>\n",
       "      <th>RP_19.53</th>\n",
       "      <th>RP_19.73</th>\n",
       "      <th>RP_19.92</th>\n",
       "    </tr>\n",
       "  </thead>\n",
       "  <tbody>\n",
       "    <tr>\n",
       "      <th>0</th>\n",
       "      <td>1</td>\n",
       "      <td>4.26</td>\n",
       "      <td>10.98</td>\n",
       "      <td>9.05</td>\n",
       "      <td>13.65</td>\n",
       "      <td>11.49</td>\n",
       "      <td>8.930000</td>\n",
       "      <td>18.840000</td>\n",
       "      <td>19.26</td>\n",
       "      <td>19.240000</td>\n",
       "      <td>...</td>\n",
       "      <td>0.31</td>\n",
       "      <td>0.17</td>\n",
       "      <td>0.28</td>\n",
       "      <td>0.19</td>\n",
       "      <td>0.24</td>\n",
       "      <td>0.27</td>\n",
       "      <td>0.29</td>\n",
       "      <td>0.16</td>\n",
       "      <td>0.22</td>\n",
       "      <td>0.19</td>\n",
       "    </tr>\n",
       "    <tr>\n",
       "      <th>1</th>\n",
       "      <td>3</td>\n",
       "      <td>2.65</td>\n",
       "      <td>3.97</td>\n",
       "      <td>12.18</td>\n",
       "      <td>13.26</td>\n",
       "      <td>14.21</td>\n",
       "      <td>13.230000</td>\n",
       "      <td>9.650000</td>\n",
       "      <td>8.11</td>\n",
       "      <td>11.280000</td>\n",
       "      <td>...</td>\n",
       "      <td>0.15</td>\n",
       "      <td>0.13</td>\n",
       "      <td>0.14</td>\n",
       "      <td>0.24</td>\n",
       "      <td>0.24</td>\n",
       "      <td>0.36</td>\n",
       "      <td>0.35</td>\n",
       "      <td>0.31</td>\n",
       "      <td>0.36</td>\n",
       "      <td>0.40</td>\n",
       "    </tr>\n",
       "    <tr>\n",
       "      <th>2</th>\n",
       "      <td>5</td>\n",
       "      <td>4.18</td>\n",
       "      <td>4.53</td>\n",
       "      <td>8.77</td>\n",
       "      <td>14.26</td>\n",
       "      <td>13.36</td>\n",
       "      <td>16.559999</td>\n",
       "      <td>19.219999</td>\n",
       "      <td>17.51</td>\n",
       "      <td>22.650000</td>\n",
       "      <td>...</td>\n",
       "      <td>0.29</td>\n",
       "      <td>0.21</td>\n",
       "      <td>0.16</td>\n",
       "      <td>0.25</td>\n",
       "      <td>0.28</td>\n",
       "      <td>0.28</td>\n",
       "      <td>0.34</td>\n",
       "      <td>0.48</td>\n",
       "      <td>0.44</td>\n",
       "      <td>0.48</td>\n",
       "    </tr>\n",
       "    <tr>\n",
       "      <th>3</th>\n",
       "      <td>7</td>\n",
       "      <td>2.41</td>\n",
       "      <td>3.21</td>\n",
       "      <td>4.92</td>\n",
       "      <td>8.07</td>\n",
       "      <td>5.97</td>\n",
       "      <td>12.420000</td>\n",
       "      <td>10.820000</td>\n",
       "      <td>14.96</td>\n",
       "      <td>21.809999</td>\n",
       "      <td>...</td>\n",
       "      <td>0.33</td>\n",
       "      <td>0.51</td>\n",
       "      <td>0.49</td>\n",
       "      <td>0.64</td>\n",
       "      <td>0.58</td>\n",
       "      <td>0.42</td>\n",
       "      <td>0.32</td>\n",
       "      <td>0.31</td>\n",
       "      <td>0.32</td>\n",
       "      <td>0.33</td>\n",
       "    </tr>\n",
       "    <tr>\n",
       "      <th>4</th>\n",
       "      <td>9</td>\n",
       "      <td>2.29</td>\n",
       "      <td>2.44</td>\n",
       "      <td>2.77</td>\n",
       "      <td>4.62</td>\n",
       "      <td>5.39</td>\n",
       "      <td>7.080000</td>\n",
       "      <td>9.840000</td>\n",
       "      <td>12.27</td>\n",
       "      <td>14.410000</td>\n",
       "      <td>...</td>\n",
       "      <td>0.44</td>\n",
       "      <td>0.38</td>\n",
       "      <td>0.48</td>\n",
       "      <td>0.63</td>\n",
       "      <td>0.45</td>\n",
       "      <td>0.45</td>\n",
       "      <td>0.49</td>\n",
       "      <td>0.33</td>\n",
       "      <td>0.31</td>\n",
       "      <td>0.34</td>\n",
       "    </tr>\n",
       "  </tbody>\n",
       "</table>\n",
       "<p>5 rows × 401 columns</p>\n",
       "</div>"
      ],
      "text/plain": [
       "   time  LL_0.59  LL_0.78  LL_0.98  LL_1.17  LL_1.37    LL_1.56    LL_1.76  \\\n",
       "0     1     4.26    10.98     9.05    13.65    11.49   8.930000  18.840000   \n",
       "1     3     2.65     3.97    12.18    13.26    14.21  13.230000   9.650000   \n",
       "2     5     4.18     4.53     8.77    14.26    13.36  16.559999  19.219999   \n",
       "3     7     2.41     3.21     4.92     8.07     5.97  12.420000  10.820000   \n",
       "4     9     2.29     2.44     2.77     4.62     5.39   7.080000   9.840000   \n",
       "\n",
       "   LL_1.95    LL_2.15  ...  RP_18.16  RP_18.36  RP_18.55  RP_18.75  RP_18.95  \\\n",
       "0    19.26  19.240000  ...      0.31      0.17      0.28      0.19      0.24   \n",
       "1     8.11  11.280000  ...      0.15      0.13      0.14      0.24      0.24   \n",
       "2    17.51  22.650000  ...      0.29      0.21      0.16      0.25      0.28   \n",
       "3    14.96  21.809999  ...      0.33      0.51      0.49      0.64      0.58   \n",
       "4    12.27  14.410000  ...      0.44      0.38      0.48      0.63      0.45   \n",
       "\n",
       "   RP_19.14  RP_19.34  RP_19.53  RP_19.73  RP_19.92  \n",
       "0      0.27      0.29      0.16      0.22      0.19  \n",
       "1      0.36      0.35      0.31      0.36      0.40  \n",
       "2      0.28      0.34      0.48      0.44      0.48  \n",
       "3      0.42      0.32      0.31      0.32      0.33  \n",
       "4      0.45      0.49      0.33      0.31      0.34  \n",
       "\n",
       "[5 rows x 401 columns]"
      ]
     },
     "execution_count": 20,
     "metadata": {},
     "output_type": "execute_result"
    }
   ],
   "source": [
    "pd.read_parquet(target_df[\"path\"][0]).head()"
   ]
  }
 ],
 "metadata": {
  "kaggle": {
   "accelerator": "none",
   "dataSources": [
    {
     "databundleVersionId": 7469972,
     "sourceId": 59093,
     "sourceType": "competition"
    }
   ],
   "dockerImageVersionId": 30684,
   "isGpuEnabled": false,
   "isInternetEnabled": true,
   "language": "python",
   "sourceType": "notebook"
  },
  "kernelspec": {
   "display_name": "Python 3",
   "language": "python",
   "name": "python3"
  },
  "language_info": {
   "codemirror_mode": {
    "name": "ipython",
    "version": 3
   },
   "file_extension": ".py",
   "mimetype": "text/x-python",
   "name": "python",
   "nbconvert_exporter": "python",
   "pygments_lexer": "ipython3",
   "version": "3.10.13"
  },
  "papermill": {
   "default_parameters": {},
   "duration": 15.702487,
   "end_time": "2024-04-08T17:08:45.418323",
   "environment_variables": {},
   "exception": null,
   "input_path": "__notebook__.ipynb",
   "output_path": "__notebook__.ipynb",
   "parameters": {},
   "start_time": "2024-04-08T17:08:29.715836",
   "version": "2.5.0"
  }
 },
 "nbformat": 4,
 "nbformat_minor": 5
}
